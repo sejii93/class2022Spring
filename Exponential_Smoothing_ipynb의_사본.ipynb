{
  "nbformat": 4,
  "nbformat_minor": 0,
  "metadata": {
    "colab": {
      "name": "Exponential Smoothing.ipynb의 사본",
      "provenance": [],
      "collapsed_sections": [],
      "authorship_tag": "ABX9TyM0vTPb3+029FcS3WbWSE3l",
      "include_colab_link": true
    },
    "kernelspec": {
      "name": "python3",
      "display_name": "Python 3"
    },
    "language_info": {
      "name": "python"
    }
  },
  "cells": [
    {
      "cell_type": "markdown",
      "metadata": {
        "id": "view-in-github",
        "colab_type": "text"
      },
      "source": [
        "<a href=\"https://colab.research.google.com/github/sejii93/class2022Spring/blob/main/Exponential_Smoothing_ipynb%EC%9D%98_%EC%82%AC%EB%B3%B8.ipynb\" target=\"_parent\"><img src=\"https://colab.research.google.com/assets/colab-badge.svg\" alt=\"Open In Colab\"/></a>"
      ]
    },
    {
      "cell_type": "code",
      "execution_count": 19,
      "metadata": {
        "id": "0JZ1o2NTDyEQ"
      },
      "outputs": [],
      "source": [
        "import numpy as np\n",
        "import pandas as pd\n",
        "import matplotlib.pyplot as plt"
      ]
    },
    {
      "cell_type": "code",
      "source": [
        "file_path = 'https://raw.githubusercontent.com/selva86/datasets/master/a10.csv'\n",
        "df = pd.read_csv(file_path, \n",
        "                 parse_dates=['date'], \n",
        "                 index_col='date')\n",
        "                 \n",
        "df.head(12)"
      ],
      "metadata": {
        "colab": {
          "base_uri": "https://localhost:8080/",
          "height": 457
        },
        "id": "inL3GKCDEEio",
        "outputId": "d6907908-ad48-4d17-faec-e6a75e15dc46"
      },
      "execution_count": 20,
      "outputs": [
        {
          "output_type": "execute_result",
          "data": {
            "text/plain": [
              "               value\n",
              "date                \n",
              "1991-07-01  3.526591\n",
              "1991-08-01  3.180891\n",
              "1991-09-01  3.252221\n",
              "1991-10-01  3.611003\n",
              "1991-11-01  3.565869\n",
              "1991-12-01  4.306371\n",
              "1992-01-01  5.088335\n",
              "1992-02-01  2.814520\n",
              "1992-03-01  2.985811\n",
              "1992-04-01  3.204780\n",
              "1992-05-01  3.127578\n",
              "1992-06-01  3.270523"
            ],
            "text/html": [
              "\n",
              "  <div id=\"df-12c49976-b261-4b40-90b2-39f4e5383e09\">\n",
              "    <div class=\"colab-df-container\">\n",
              "      <div>\n",
              "<style scoped>\n",
              "    .dataframe tbody tr th:only-of-type {\n",
              "        vertical-align: middle;\n",
              "    }\n",
              "\n",
              "    .dataframe tbody tr th {\n",
              "        vertical-align: top;\n",
              "    }\n",
              "\n",
              "    .dataframe thead th {\n",
              "        text-align: right;\n",
              "    }\n",
              "</style>\n",
              "<table border=\"1\" class=\"dataframe\">\n",
              "  <thead>\n",
              "    <tr style=\"text-align: right;\">\n",
              "      <th></th>\n",
              "      <th>value</th>\n",
              "    </tr>\n",
              "    <tr>\n",
              "      <th>date</th>\n",
              "      <th></th>\n",
              "    </tr>\n",
              "  </thead>\n",
              "  <tbody>\n",
              "    <tr>\n",
              "      <th>1991-07-01</th>\n",
              "      <td>3.526591</td>\n",
              "    </tr>\n",
              "    <tr>\n",
              "      <th>1991-08-01</th>\n",
              "      <td>3.180891</td>\n",
              "    </tr>\n",
              "    <tr>\n",
              "      <th>1991-09-01</th>\n",
              "      <td>3.252221</td>\n",
              "    </tr>\n",
              "    <tr>\n",
              "      <th>1991-10-01</th>\n",
              "      <td>3.611003</td>\n",
              "    </tr>\n",
              "    <tr>\n",
              "      <th>1991-11-01</th>\n",
              "      <td>3.565869</td>\n",
              "    </tr>\n",
              "    <tr>\n",
              "      <th>1991-12-01</th>\n",
              "      <td>4.306371</td>\n",
              "    </tr>\n",
              "    <tr>\n",
              "      <th>1992-01-01</th>\n",
              "      <td>5.088335</td>\n",
              "    </tr>\n",
              "    <tr>\n",
              "      <th>1992-02-01</th>\n",
              "      <td>2.814520</td>\n",
              "    </tr>\n",
              "    <tr>\n",
              "      <th>1992-03-01</th>\n",
              "      <td>2.985811</td>\n",
              "    </tr>\n",
              "    <tr>\n",
              "      <th>1992-04-01</th>\n",
              "      <td>3.204780</td>\n",
              "    </tr>\n",
              "    <tr>\n",
              "      <th>1992-05-01</th>\n",
              "      <td>3.127578</td>\n",
              "    </tr>\n",
              "    <tr>\n",
              "      <th>1992-06-01</th>\n",
              "      <td>3.270523</td>\n",
              "    </tr>\n",
              "  </tbody>\n",
              "</table>\n",
              "</div>\n",
              "      <button class=\"colab-df-convert\" onclick=\"convertToInteractive('df-12c49976-b261-4b40-90b2-39f4e5383e09')\"\n",
              "              title=\"Convert this dataframe to an interactive table.\"\n",
              "              style=\"display:none;\">\n",
              "        \n",
              "  <svg xmlns=\"http://www.w3.org/2000/svg\" height=\"24px\"viewBox=\"0 0 24 24\"\n",
              "       width=\"24px\">\n",
              "    <path d=\"M0 0h24v24H0V0z\" fill=\"none\"/>\n",
              "    <path d=\"M18.56 5.44l.94 2.06.94-2.06 2.06-.94-2.06-.94-.94-2.06-.94 2.06-2.06.94zm-11 1L8.5 8.5l.94-2.06 2.06-.94-2.06-.94L8.5 2.5l-.94 2.06-2.06.94zm10 10l.94 2.06.94-2.06 2.06-.94-2.06-.94-.94-2.06-.94 2.06-2.06.94z\"/><path d=\"M17.41 7.96l-1.37-1.37c-.4-.4-.92-.59-1.43-.59-.52 0-1.04.2-1.43.59L10.3 9.45l-7.72 7.72c-.78.78-.78 2.05 0 2.83L4 21.41c.39.39.9.59 1.41.59.51 0 1.02-.2 1.41-.59l7.78-7.78 2.81-2.81c.8-.78.8-2.07 0-2.86zM5.41 20L4 18.59l7.72-7.72 1.47 1.35L5.41 20z\"/>\n",
              "  </svg>\n",
              "      </button>\n",
              "      \n",
              "  <style>\n",
              "    .colab-df-container {\n",
              "      display:flex;\n",
              "      flex-wrap:wrap;\n",
              "      gap: 12px;\n",
              "    }\n",
              "\n",
              "    .colab-df-convert {\n",
              "      background-color: #E8F0FE;\n",
              "      border: none;\n",
              "      border-radius: 50%;\n",
              "      cursor: pointer;\n",
              "      display: none;\n",
              "      fill: #1967D2;\n",
              "      height: 32px;\n",
              "      padding: 0 0 0 0;\n",
              "      width: 32px;\n",
              "    }\n",
              "\n",
              "    .colab-df-convert:hover {\n",
              "      background-color: #E2EBFA;\n",
              "      box-shadow: 0px 1px 2px rgba(60, 64, 67, 0.3), 0px 1px 3px 1px rgba(60, 64, 67, 0.15);\n",
              "      fill: #174EA6;\n",
              "    }\n",
              "\n",
              "    [theme=dark] .colab-df-convert {\n",
              "      background-color: #3B4455;\n",
              "      fill: #D2E3FC;\n",
              "    }\n",
              "\n",
              "    [theme=dark] .colab-df-convert:hover {\n",
              "      background-color: #434B5C;\n",
              "      box-shadow: 0px 1px 3px 1px rgba(0, 0, 0, 0.15);\n",
              "      filter: drop-shadow(0px 1px 2px rgba(0, 0, 0, 0.3));\n",
              "      fill: #FFFFFF;\n",
              "    }\n",
              "  </style>\n",
              "\n",
              "      <script>\n",
              "        const buttonEl =\n",
              "          document.querySelector('#df-12c49976-b261-4b40-90b2-39f4e5383e09 button.colab-df-convert');\n",
              "        buttonEl.style.display =\n",
              "          google.colab.kernel.accessAllowed ? 'block' : 'none';\n",
              "\n",
              "        async function convertToInteractive(key) {\n",
              "          const element = document.querySelector('#df-12c49976-b261-4b40-90b2-39f4e5383e09');\n",
              "          const dataTable =\n",
              "            await google.colab.kernel.invokeFunction('convertToInteractive',\n",
              "                                                     [key], {});\n",
              "          if (!dataTable) return;\n",
              "\n",
              "          const docLinkHtml = 'Like what you see? Visit the ' +\n",
              "            '<a target=\"_blank\" href=https://colab.research.google.com/notebooks/data_table.ipynb>data table notebook</a>'\n",
              "            + ' to learn more about interactive tables.';\n",
              "          element.innerHTML = '';\n",
              "          dataTable['output_type'] = 'display_data';\n",
              "          await google.colab.output.renderOutput(dataTable, element);\n",
              "          const docLink = document.createElement('div');\n",
              "          docLink.innerHTML = docLinkHtml;\n",
              "          element.appendChild(docLink);\n",
              "        }\n",
              "      </script>\n",
              "    </div>\n",
              "  </div>\n",
              "  "
            ]
          },
          "metadata": {},
          "execution_count": 20
        }
      ]
    },
    {
      "cell_type": "code",
      "source": [
        "## time series plot\n",
        "df.plot(figsize=[12, 8])\n",
        "plt.title('Drug Sales', fontsize=14)\n",
        "plt.show()"
      ],
      "metadata": {
        "colab": {
          "base_uri": "https://localhost:8080/",
          "height": 514
        },
        "id": "sp4xeUG4EHcP",
        "outputId": "b98aeeaf-d7a6-4840-d940-6e38faed6457"
      },
      "execution_count": 21,
      "outputs": [
        {
          "output_type": "display_data",
          "data": {
            "text/plain": [
              "<Figure size 864x576 with 1 Axes>"
            ],
            "image/png": "[encoded data removed]"
          },
          "metadata": {
            "needs_background": "light"
          }
        }
      ]
    },
    {
      "cell_type": "code",
      "source": [
        "## split between the training and the test data sets. \n",
        "## The last 12 periods form the test data\n",
        "df_train = df.iloc[:-12]\n",
        "df_test = df.iloc[-12:]"
      ],
      "metadata": {
        "id": "S2xkm7VvELbr"
      },
      "execution_count": 22,
      "outputs": []
    },
    {
      "cell_type": "code",
      "source": [
        "## exponential smoothing in Python\n",
        "from statsmodels.tsa.api import ExponentialSmoothing, SimpleExpSmoothing, Holt"
      ],
      "metadata": {
        "id": "nuL_Yo84EOkH"
      },
      "execution_count": 23,
      "outputs": []
    },
    {
      "cell_type": "code",
      "source": [
        "# Simple Exponential Smoothing\n",
        "fit1 = SimpleExpSmoothing(df_train).fit()"
      ],
      "metadata": {
        "colab": {
          "base_uri": "https://localhost:8080/"
        },
        "id": "lr2pZV-UEaUi",
        "outputId": "79f7f3fe-dfab-4864-a526-a4a39fbb24e3"
      },
      "execution_count": 11,
      "outputs": [
        {
          "output_type": "stream",
          "name": "stderr",
          "text": [
            "/usr/local/lib/python3.7/dist-packages/statsmodels/tsa/base/tsa_model.py:165: ValueWarning: No frequency information was provided, so inferred frequency MS will be used.\n",
            "  % freq, ValueWarning)\n"
          ]
        }
      ]
    },
    {
      "cell_type": "code",
      "source": [
        "# Trend\n",
        "fit2 = Holt(df_train).fit()"
      ],
      "metadata": {
        "colab": {
          "base_uri": "https://localhost:8080/"
        },
        "id": "Yt3xaMXOFl4P",
        "outputId": "5e3219b7-69d7-4b65-a93e-33402dfdc02e"
      },
      "execution_count": 24,
      "outputs": [
        {
          "output_type": "stream",
          "name": "stderr",
          "text": [
            "/usr/local/lib/python3.7/dist-packages/statsmodels/tsa/base/tsa_model.py:165: ValueWarning: No frequency information was provided, so inferred frequency MS will be used.\n",
            "  % freq, ValueWarning)\n"
          ]
        }
      ]
    },
    {
      "cell_type": "code",
      "source": [
        "# Exponential trend\n",
        "fit3 = Holt(df_train,exponential=True).fit()"
      ],
      "metadata": {
        "colab": {
          "base_uri": "https://localhost:8080/"
        },
        "id": "QLJndmqDF2Nr",
        "outputId": "0a351dbb-1e1b-47ac-c215-8717328f3eda"
      },
      "execution_count": 25,
      "outputs": [
        {
          "output_type": "stream",
          "name": "stderr",
          "text": [
            "/usr/local/lib/python3.7/dist-packages/statsmodels/tsa/base/tsa_model.py:165: ValueWarning: No frequency information was provided, so inferred frequency MS will be used.\n",
            "  % freq, ValueWarning)\n"
          ]
        }
      ]
    },
    {
      "cell_type": "code",
      "source": [
        "## accessing the results of SimpleExpSmoothing Model\n",
        "print(fit1.summary())"
      ],
      "metadata": {
        "colab": {
          "base_uri": "https://localhost:8080/"
        },
        "id": "jwoIonvWv-K9",
        "outputId": "24266d87-052d-447f-db64-3501403a0201"
      },
      "execution_count": 26,
      "outputs": [
        {
          "output_type": "stream",
          "name": "stdout",
          "text": [
            "                       SimpleExpSmoothing Model Results                       \n",
            "==============================================================================\n",
            "Dep. Variable:                  endog   No. Observations:                  192\n",
            "Model:             SimpleExpSmoothing   SSE                            692.196\n",
            "Optimized:                       True   AIC                            250.216\n",
            "Trend:                           None   BIC                            256.731\n",
            "Seasonal:                        None   AICC                           250.430\n",
            "Seasonal Periods:                None   Date:                 Mon, 30 May 2022\n",
            "Box-Cox:                        False   Time:                         12:05:25\n",
            "Box-Cox Coeff.:                  None                                         \n",
            "==============================================================================\n",
            "                       coeff                 code              optimized      \n",
            "------------------------------------------------------------------------------\n",
            "smoothing_level            0.3062827                alpha                 True\n",
            "initial_level              3.4872552                  l.0                 True\n",
            "------------------------------------------------------------------------------\n"
          ]
        }
      ]
    },
    {
      "cell_type": "code",
      "source": [
        "## accessing the results of \n",
        "print(fit2.summary())"
      ],
      "metadata": {
        "colab": {
          "base_uri": "https://localhost:8080/"
        },
        "id": "nISqbYtrwLMo",
        "outputId": "326d72e6-5d02-488c-dd2e-57532d6aa4e0"
      },
      "execution_count": 36,
      "outputs": [
        {
          "output_type": "stream",
          "name": "stdout",
          "text": [
            "                              Holt Model Results                              \n",
            "==============================================================================\n",
            "Dep. Variable:                  endog   No. Observations:                  192\n",
            "Model:                           Holt   SSE                            632.117\n",
            "Optimized:                       True   AIC                            236.783\n",
            "Trend:                       Additive   BIC                            249.813\n",
            "Seasonal:                        None   AICC                           237.237\n",
            "Seasonal Periods:                None   Date:                 Mon, 30 May 2022\n",
            "Box-Cox:                        False   Time:                         12:10:36\n",
            "Box-Cox Coeff.:                  None                                         \n",
            "==============================================================================\n",
            "                       coeff                 code              optimized      \n",
            "------------------------------------------------------------------------------\n",
            "smoothing_level            0.0559569                alpha                 True\n",
            "smoothing_slope            0.0559568                 beta                 True\n",
            "initial_level              3.4939045                  l.0                 True\n",
            "initial_slope              0.0454032                  b.0                 True\n",
            "------------------------------------------------------------------------------\n"
          ]
        }
      ]
    },
    {
      "cell_type": "code",
      "source": [
        "## accessing the results of \n",
        "print(fit3.summary())"
      ],
      "metadata": {
        "colab": {
          "base_uri": "https://localhost:8080/"
        },
        "id": "5GtznDc5wQAK",
        "outputId": "933d6f1b-16ae-4755-be80-c662e11a163a"
      },
      "execution_count": 37,
      "outputs": [
        {
          "output_type": "stream",
          "name": "stdout",
          "text": [
            "                              Holt Model Results                              \n",
            "==============================================================================\n",
            "Dep. Variable:                  endog   No. Observations:                  192\n",
            "Model:                           Holt   SSE                            665.881\n",
            "Optimized:                       True   AIC                            246.774\n",
            "Trend:                 Multiplicative   BIC                            259.804\n",
            "Seasonal:                        None   AICC                           247.228\n",
            "Seasonal Periods:                None   Date:                 Mon, 30 May 2022\n",
            "Box-Cox:                        False   Time:                         12:10:42\n",
            "Box-Cox Coeff.:                  None                                         \n",
            "==============================================================================\n",
            "                       coeff                 code              optimized      \n",
            "------------------------------------------------------------------------------\n",
            "smoothing_level            0.1050946                alpha                 True\n",
            "smoothing_slope            0.1050946                 beta                 True\n",
            "initial_level              3.5262806                  l.0                 True\n",
            "initial_slope              0.9973691                  b.0                 True\n",
            "------------------------------------------------------------------------------\n"
          ]
        }
      ]
    },
    {
      "cell_type": "code",
      "source": [
        "## Holt's Winters's method for time series data with Seasonality\n",
        "from statsmodels.tsa.holtwinters import ExponentialSmoothing as HWES"
      ],
      "metadata": {
        "id": "p9fanC7e3Jz6"
      },
      "execution_count": 38,
      "outputs": []
    },
    {
      "cell_type": "code",
      "source": [
        "# additive model for fixed seasonal variation\n",
        "fit6 = HWES(df_train, \n",
        "             seasonal_periods=12, \n",
        "             trend='add', \n",
        "             seasonal='add').fit(optimized=True, use_brute=True)"
      ],
      "metadata": {
        "colab": {
          "base_uri": "https://localhost:8080/"
        },
        "id": "HqE6XABw3SQp",
        "outputId": "ad4e38bf-3abd-4fa3-c489-60e71ab55a1b"
      },
      "execution_count": 39,
      "outputs": [
        {
          "output_type": "stream",
          "name": "stderr",
          "text": [
            "/usr/local/lib/python3.7/dist-packages/statsmodels/tsa/base/tsa_model.py:165: ValueWarning: No frequency information was provided, so inferred frequency MS will be used.\n",
            "  % freq, ValueWarning)\n"
          ]
        }
      ]
    },
    {
      "cell_type": "code",
      "source": [
        "# multiplicative model for increasing seasonal variation\n",
        "fit7 = HWES(df_train, \n",
        "             seasonal_periods=12, \n",
        "             trend='add', \n",
        "             seasonal='mul').fit(optimized=True, use_brute=True)"
      ],
      "metadata": {
        "colab": {
          "base_uri": "https://localhost:8080/"
        },
        "id": "MNtdmxVV3XO1",
        "outputId": "3080c60f-2fca-4894-9d14-a2d33de0f03f"
      },
      "execution_count": 40,
      "outputs": [
        {
          "output_type": "stream",
          "name": "stderr",
          "text": [
            "/usr/local/lib/python3.7/dist-packages/statsmodels/tsa/base/tsa_model.py:165: ValueWarning: No frequency information was provided, so inferred frequency MS will be used.\n",
            "  % freq, ValueWarning)\n"
          ]
        }
      ]
    },
    {
      "cell_type": "code",
      "source": [
        "## accessing the results of \n",
        "print(fit6.summary())"
      ],
      "metadata": {
        "colab": {
          "base_uri": "https://localhost:8080/"
        },
        "id": "Deaux9_z4EBH",
        "outputId": "884e6b19-70bd-43c7-923f-a2e2a521469d"
      },
      "execution_count": 41,
      "outputs": [
        {
          "output_type": "stream",
          "name": "stdout",
          "text": [
            "                       ExponentialSmoothing Model Results                       \n",
            "================================================================================\n",
            "Dep. Variable:                    endog   No. Observations:                  192\n",
            "Model:             ExponentialSmoothing   SSE                            111.550\n",
            "Optimized:                         True   AIC                            -72.260\n",
            "Trend:                         Additive   BIC                            -20.140\n",
            "Seasonal:                      Additive   AICC                           -68.307\n",
            "Seasonal Periods:                    12   Date:                 Mon, 30 May 2022\n",
            "Box-Cox:                          False   Time:                         12:10:59\n",
            "Box-Cox Coeff.:                    None                                         \n",
            "=================================================================================\n",
            "                          coeff                 code              optimized      \n",
            "---------------------------------------------------------------------------------\n",
            "smoothing_level               0.1987572                alpha                 True\n",
            "smoothing_slope               0.0428867                 beta                 True\n",
            "smoothing_seasonal            0.7156484                gamma                 True\n",
            "initial_level                 9.0410679                  l.0                 True\n",
            "initial_slope                 0.0521314                  b.0                 True\n",
            "initial_seasons.0            -5.6064074                  s.0                 True\n",
            "initial_seasons.1            -5.8986178                  s.1                 True\n",
            "initial_seasons.2            -5.8317480                  s.2                 True\n",
            "initial_seasons.3            -5.5144593                  s.3                 True\n",
            "initial_seasons.4            -5.4636763                  s.4                 True\n",
            "initial_seasons.5            -4.6859267                  s.5                 True\n",
            "initial_seasons.6            -4.1597072                  s.6                 True\n",
            "initial_seasons.7            -6.5979927                  s.7                 True\n",
            "initial_seasons.8            -6.4355267                  s.8                 True\n",
            "initial_seasons.9            -6.3229387                  s.9                 True\n",
            "initial_seasons.10           -6.3834490                 s.10                 True\n",
            "initial_seasons.11           -6.3149846                 s.11                 True\n",
            "---------------------------------------------------------------------------------\n"
          ]
        }
      ]
    },
    {
      "cell_type": "code",
      "source": [
        "## accessing the results of \n",
        "print(fit7.summary())"
      ],
      "metadata": {
        "colab": {
          "base_uri": "https://localhost:8080/"
        },
        "id": "BQ57N2zj4HqZ",
        "outputId": "4f3e8863-bea0-474c-e024-d47a9527127a"
      },
      "execution_count": 42,
      "outputs": [
        {
          "output_type": "stream",
          "name": "stdout",
          "text": [
            "                       ExponentialSmoothing Model Results                       \n",
            "================================================================================\n",
            "Dep. Variable:                    endog   No. Observations:                  192\n",
            "Model:             ExponentialSmoothing   SSE                             75.264\n",
            "Optimized:                         True   AIC                           -147.808\n",
            "Trend:                         Additive   BIC                            -95.688\n",
            "Seasonal:                Multiplicative   AICC                          -143.854\n",
            "Seasonal Periods:                    12   Date:                 Mon, 30 May 2022\n",
            "Box-Cox:                          False   Time:                         12:11:15\n",
            "Box-Cox Coeff.:                    None                                         \n",
            "=================================================================================\n",
            "                          coeff                 code              optimized      \n",
            "---------------------------------------------------------------------------------\n",
            "smoothing_level               0.2588395                alpha                 True\n",
            "smoothing_slope               0.0511490                 beta                 True\n",
            "smoothing_seasonal             0.000000                gamma                 True\n",
            "initial_level                 9.2251265                  l.0                 True\n",
            "initial_slope                 0.2010568                  b.0                 True\n",
            "initial_seasons.0             0.3359675                  s.0                 True\n",
            "initial_seasons.1             0.3416448                  s.1                 True\n",
            "initial_seasons.2             0.3378738                  s.2                 True\n",
            "initial_seasons.3             0.3658180                  s.3                 True\n",
            "initial_seasons.4             0.3790646                  s.4                 True\n",
            "initial_seasons.5             0.4084565                  s.5                 True\n",
            "initial_seasons.6             0.4581462                  s.6                 True\n",
            "initial_seasons.7             0.2645262                  s.7                 True\n",
            "initial_seasons.8             0.3032046                  s.8                 True\n",
            "initial_seasons.9             0.2868682                  s.9                 True\n",
            "initial_seasons.10            0.3265810                 s.10                 True\n",
            "initial_seasons.11            0.3169295                 s.11                 True\n",
            "---------------------------------------------------------------------------------\n"
          ]
        }
      ]
    },
    {
      "cell_type": "code",
      "source": [
        "## forecasting for 12 months\n",
        "forecast_1 = fit1.forecast(12)\n",
        "forecast_2 = fit2.forecast(12)\n",
        "forecast_3 = fit3.forecast(12)\n",
        "forecast_6 = fit6.forecast(12)\n",
        "forecast_7 = fit7.forecast(12)\n",
        "\n",
        "\n",
        "y_test = df_test['value']\n",
        "\n",
        "t_p = pd.DataFrame({'test': y_test, \n",
        "                    'f1': forecast_1, \n",
        "                    'f2': forecast_2, \n",
        "                    'f3': forecast_3, \n",
        "                    'f6': forecast_6, \n",
        "                    'f7': forecast_7})      \n",
        "                           \n",
        "                        \n",
        "print(t_p)"
      ],
      "metadata": {
        "colab": {
          "base_uri": "https://localhost:8080/"
        },
        "id": "GWhRM6ac4SUF",
        "outputId": "ef76ebb3-341f-4445-8bea-0adc2966df0f"
      },
      "execution_count": 44,
      "outputs": [
        {
          "output_type": "stream",
          "name": "stdout",
          "text": [
            "                 test        f1         f2         f3         f6         f7\n",
            "2007-07-01  21.834890  20.15245  20.409049  21.296480  20.882447  21.580175\n",
            "2007-08-01  23.930204  20.15245  20.572893  21.525510  22.592362  22.164475\n",
            "2007-09-01  22.930357  20.15245  20.736737  21.757002  21.389038  22.137040\n",
            "2007-10-01  23.263340  20.15245  20.900582  21.990984  25.178651  24.203074\n",
            "2007-11-01  25.250030  20.15245  21.064426  22.227482  26.776587  25.323182\n",
            "2007-12-01  25.806090  20.15245  21.228270  22.466524  26.424420  27.549272\n",
            "2008-01-01  29.665356  20.15245  21.392114  22.708136  30.468547  31.195231\n",
            "2008-02-01  21.654285  20.15245  21.555958  22.952347  19.065453  18.181674\n",
            "2008-03-01  18.264945  20.15245  21.719802  23.199184  21.834577  21.035078\n",
            "2008-04-01  23.107677  20.15245  21.883647  23.448676  19.061434  20.086141\n",
            "2008-05-01  22.912510  20.15245  22.047491  23.700851  23.452066  23.076732\n",
            "2008-06-01  19.431740  20.15245  22.211335  23.955738  22.353550  22.598485\n"
          ]
        }
      ]
    },
    {
      "cell_type": "code",
      "source": [
        "## UDF for counting the number of parameters in model\n",
        "def num_params(model):\n",
        "    n_params = 0\n",
        "\n",
        "    for p in list(model.params.values()):\n",
        "        if isinstance(p, np.ndarray):\n",
        "            n_params += len(p)\n",
        "            #print(p)\n",
        "        elif p in [np.nan, False, None]:\n",
        "            pass\n",
        "        elif np.isnan(float(p)):\n",
        "            pass\n",
        "        else:\n",
        "            n_params += 1\n",
        "            #print(p)\n",
        "    \n",
        "    return n_params"
      ],
      "metadata": {
        "id": "-6EeXpil47sZ"
      },
      "execution_count": 45,
      "outputs": []
    },
    {
      "cell_type": "code",
      "source": [
        "num_params(fit1)\n",
        "#모든 모델의 갯수를 나타내자"
      ],
      "metadata": {
        "colab": {
          "base_uri": "https://localhost:8080/"
        },
        "id": "06uxFvMk-Gmn",
        "outputId": "a6906967-5036-426f-8c4c-69f944231c9c"
      },
      "execution_count": 46,
      "outputs": [
        {
          "output_type": "execute_result",
          "data": {
            "text/plain": [
              "2"
            ]
          },
          "metadata": {},
          "execution_count": 46
        }
      ]
    },
    {
      "cell_type": "code",
      "source": [
        "## number of observations in training set\n",
        "T = df_train.shape[0]\n",
        "print(T)"
      ],
      "metadata": {
        "colab": {
          "base_uri": "https://localhost:8080/"
        },
        "id": "EO_vqA5B-f9Z",
        "outputId": "cfd6fbab-f128-4e71-f910-1805e5dbd862"
      },
      "execution_count": 47,
      "outputs": [
        {
          "output_type": "stream",
          "name": "stdout",
          "text": [
            "192\n"
          ]
        }
      ]
    },
    {
      "cell_type": "code",
      "source": [
        "## evaluation metrics\n",
        "from sklearn.metrics import mean_squared_error as MSE\n",
        "from sklearn.metrics import mean_absolute_error as MAE"
      ],
      "metadata": {
        "id": "cuCUcfT2-uOd"
      },
      "execution_count": 48,
      "outputs": []
    },
    {
      "cell_type": "code",
      "source": [
        "# Mean Absolute Percentage Error\n",
        "def SSE(y_test, y_pred):\n",
        "    y_test, y_pred = np.array(y_test), np.array(y_pred)\n",
        "    return np.sum((y_test - y_pred)**2)\n",
        "\n",
        "def ME(y_test, y_pred):\n",
        "    y_test, y_pred = np.array(y_test), np.array(y_pred)\n",
        "    return np.mean(y_test - y_pred)\n",
        "\n",
        "def RMSE(y_test, y_pred):\n",
        "    y_test, y_pred = np.array(y_test), np.array(y_pred)\n",
        "    return np.sqrt(np.mean((y_test - y_pred)**2))   \n",
        "    #return np.sqrt(MSE(y_test - y_pred))\n",
        "\n",
        "def MPE(y_test, y_pred): \n",
        "    y_test, y_pred = np.array(y_test), np.array(y_pred)\n",
        "    return np.mean((y_test - y_pred) / y_test) * 100\n",
        "\n",
        "def MAPE(y_test, y_pred): \n",
        "    y_test, y_pred = np.array(y_test), np.array(y_pred)\n",
        "    return np.mean(np.abs((y_test - y_pred) / y_test)) * 100\n",
        "\n",
        "def AIC(y_test, y_pred, T, model):\n",
        "    y_test, y_pred = np.array(y_test), np.array(y_pred)\n",
        "    sse = np.sum((y_test - y_pred)**2)\n",
        "    #T = len(y_train) # number of observations\n",
        "    k = num_params(model) # number of parameters\n",
        "    return T * np.log(sse/T) + 2*k\n",
        "\n",
        "def SBC(y_test, y_pred, T, model):\n",
        "    y_test, y_pred = np.array(y_test), np.array(y_pred)\n",
        "    sse = np.sum((y_test - y_pred)**2)\n",
        "    #T = len(y_train) # number of observations\n",
        "    k = num_params(model) # number of parameters\n",
        "    return T * np.log(sse/T) + k * np.log(T)\n",
        "\n",
        "def APC(y_test, y_pred, T, model):\n",
        "    y_test, y_pred = np.array(y_test), np.array(y_pred)\n",
        "    sse = np.sum((y_test - y_pred)**2)\n",
        "    #T = len(y_train) # number of observations\n",
        "    k = num_params(model) # number of parameters\n",
        "    return ((T+k)/(T-k)) * sse / T\n",
        "\n",
        "def ADJ_R2(y_test, y_pred, T, model):\n",
        "    y_test, y_pred = np.array(y_test), np.array(y_pred)\n",
        "    sst = np.sum((y_test - np.mean(y_test))**2)\n",
        "    sse = np.sum((y_test - y_pred)**2)\n",
        "    #T = len(y_train) # number of observations\n",
        "    k = num_params(model) # number of parameters\n",
        "    r2 = 1 - sse/sst\n",
        "    return 1 - ((T - 1)/(T - k)) * (1 - r2)"
      ],
      "metadata": {
        "id": "wMzaDZbB_nSB"
      },
      "execution_count": 49,
      "outputs": []
    },
    {
      "cell_type": "code",
      "source": [
        "## Combining all metrics together\n",
        "def eval_all(y_test, y_pred, T, model):\n",
        "    sse = SSE(y_test, y_pred)\n",
        "    mse = MSE(y_test, y_pred)\n",
        "    rmse = RMSE(y_test, y_pred)\n",
        "    me = ME(y_test, y_pred)\n",
        "    mae = MAE(y_test, y_pred)\n",
        "    mpe = MPE(y_test, y_pred)\n",
        "    mape = MAPE(y_test, y_pred)\n",
        "    aic = AIC(y_test, y_pred, T, model)\n",
        "    sbc = SBC(y_test, y_pred, T, model)\n",
        "    apc = APC(y_test, y_pred, T, model)\n",
        "    adj_r2 = ADJ_R2(y_test, y_pred, T, model)\n",
        "    \n",
        "    return [sse, mse, rmse, me, mae, mpe, mape, aic, sbc, apc, adj_r2]"
      ],
      "metadata": {
        "id": "fS9WdRln_3Bd"
      },
      "execution_count": 51,
      "outputs": []
    },
    {
      "cell_type": "code",
      "source": [
        "eval_all_df = pd.DataFrame(\n",
        "    {'SES': eval_all(y_test, forecast_1, T, fit1), \n",
        "    \"Holt's\": eval_all(y_test, forecast_2, T, fit2), \n",
        "    'Exponential': eval_all(y_test, forecast_3, T, fit3), \n",
        "    'Trend_Season_Add': eval_all(y_test, forecast_6, T, fit6), \n",
        "    'Trend_Season_Mult': eval_all(y_test, forecast_7, T, fit7)}\n",
        "    , index=['SSE', 'MSE', 'RMSE', 'ME', 'MAE', 'MPE', 'MAPE', 'AIC', 'SBC', 'APC', 'Adj_R2'])"
      ],
      "metadata": {
        "id": "OT2FmVJv_8v1"
      },
      "execution_count": 52,
      "outputs": []
    },
    {
      "cell_type": "code",
      "source": [
        "print(eval_all_df)"
      ],
      "metadata": {
        "colab": {
          "base_uri": "https://localhost:8080/"
        },
        "id": "PpBmhLiSANJE",
        "outputId": "fd168540-843c-4aa7-eb02-72138097ac1c"
      },
      "execution_count": 53,
      "outputs": [
        {
          "output_type": "stream",
          "name": "stdout",
          "text": [
            "               SES      Holt's  Exponential  Trend_Season_Add  \\\n",
            "SSE     205.629695  152.539767   124.995489         56.743368   \n",
            "MSE      17.135808   12.711647    10.416291          4.728614   \n",
            "RMSE      4.139542    3.565340     3.227428          2.174538   \n",
            "ME        3.018502    1.860760     0.568542         -0.118976   \n",
            "MAE       3.453205    2.899835     2.549482          1.863422   \n",
            "MPE      11.739201    6.566169     0.854807         -0.848102   \n",
            "MAPE     14.079695   12.102776    11.055995          8.538107   \n",
            "AIC      17.167664  -36.173448   -74.409803       -200.039666   \n",
            "SBC      23.682655  -23.143467   -61.379821       -144.662244   \n",
            "APC       1.093535    0.828286     0.678721          0.352957   \n",
            "Adj_R2   -1.146688   -0.609392    -0.318783          0.356848   \n",
            "\n",
            "        Trend_Season_Mult  \n",
            "SSE             48.997261  \n",
            "MSE              4.083105  \n",
            "RMSE             2.020669  \n",
            "ME              -0.089928  \n",
            "MAE              1.641246  \n",
            "MPE             -0.608650  \n",
            "MAPE             7.461547  \n",
            "AIC           -230.220346  \n",
            "SBC           -178.100420  \n",
            "APC              0.301593  \n",
            "Adj_R2           0.447801  \n"
          ]
        }
      ]
    },
    {
      "cell_type": "code",
      "source": [
        "# horizontal bar chart\n",
        "eval_all_df.loc['MAPE', :].plot(kind='barh', figsize=[8, 6])\n",
        "plt.title('Mean Absolute Percentage Error (MAPE)', fontsize=16)\n",
        "plt.show()"
      ],
      "metadata": {
        "colab": {
          "base_uri": "https://localhost:8080/",
          "height": 392
        },
        "id": "WwacSI8VAcfw",
        "outputId": "0c26201a-2ded-4943-8fca-cf3c8efce9b3"
      },
      "execution_count": 54,
      "outputs": [
        {
          "output_type": "display_data",
          "data": {
            "text/plain": [
              "<Figure size 576x432 with 1 Axes>"
            ],
            "image/png": "[encoded data removed]"
          },
          "metadata": {
            "needs_background": "light"
          }
        }
      ]
    },
    {
      "cell_type": "code",
      "source": [
        "# 1차 선형 추세는 있고 계절성은 없는 이중 지수 평활법\n",
        "plt.rcParams['figure.figsize']=[12, 8]\n",
        "past, = plt.plot(df_train.index, df_train, 'b.-', label='Sales History')\n",
        "test, = plt.plot(df_test.index, df_test, 'r.-', label='y_test')\n",
        "pred, = plt.plot(df_test.index, forecast_3, 'y.-', label='y_pred')\n",
        "plt.title('Two Parameter Exponential Smoothing', fontsize=14)\n",
        "plt.legend(handles=[past, test, pred])\n",
        "plt.show()"
      ],
      "metadata": {
        "colab": {
          "base_uri": "https://localhost:8080/",
          "height": 500
        },
        "id": "tDitAyg8AuUU",
        "outputId": "6f830248-10f6-4a87-c589-39faed5469e0"
      },
      "execution_count": 59,
      "outputs": [
        {
          "output_type": "display_data",
          "data": {
            "text/plain": [
              "<Figure size 864x576 with 1 Axes>"
            ],
            "image/png": "[encoded data removed]"
          },
          "metadata": {
            "needs_background": "light"
          }
        }
      ]
    },
    {
      "cell_type": "code",
      "source": [
        "# 1차 선형 추세와 확산계절변동이 있는 승법 윈터스 지수평활법\n",
        "plt.rcParams['figure.figsize']=[12, 8]\n",
        "past, = plt.plot(df_train.index, df_train, 'b.-', label='Sales History')\n",
        "test, = plt.plot(df_test.index, df_test, 'r.-', label='y_test')\n",
        "pred, = plt.plot(df_test.index, forecast_7, 'y.-', label='y_pred')\n",
        "plt.title('Multiplicative Winters Method Exponential Smoothing with Linear Trend', fontsize=14)\n",
        "plt.legend(handles=[past, test, pred])\n",
        "plt.show()"
      ],
      "metadata": {
        "colab": {
          "base_uri": "https://localhost:8080/",
          "height": 500
        },
        "id": "ipSD7126CDuR",
        "outputId": "73cb98a8-df93-438d-8c15-9ac1afe5a30e"
      },
      "execution_count": 60,
      "outputs": [
        {
          "output_type": "display_data",
          "data": {
            "text/plain": [
              "<Figure size 864x576 with 1 Axes>"
            ],
            "image/png": "[encoded data removed]"
          },
          "metadata": {
            "needs_background": "light"
          }
        }
      ]
    },
    {
      "cell_type": "code",
      "source": [
        "#print out the training summary\n",
        "print(fit7.summary())"
      ],
      "metadata": {
        "colab": {
          "base_uri": "https://localhost:8080/"
        },
        "id": "Qiju9EwaCVqu",
        "outputId": "2361aa25-496d-422b-d14d-afbdccec2c52"
      },
      "execution_count": 61,
      "outputs": [
        {
          "output_type": "stream",
          "name": "stdout",
          "text": [
            "                       ExponentialSmoothing Model Results                       \n",
            "================================================================================\n",
            "Dep. Variable:                    endog   No. Observations:                  192\n",
            "Model:             ExponentialSmoothing   SSE                             75.264\n",
            "Optimized:                         True   AIC                           -147.808\n",
            "Trend:                         Additive   BIC                            -95.688\n",
            "Seasonal:                Multiplicative   AICC                          -143.854\n",
            "Seasonal Periods:                    12   Date:                 Mon, 30 May 2022\n",
            "Box-Cox:                          False   Time:                         12:56:03\n",
            "Box-Cox Coeff.:                    None                                         \n",
            "=================================================================================\n",
            "                          coeff                 code              optimized      \n",
            "---------------------------------------------------------------------------------\n",
            "smoothing_level               0.2588395                alpha                 True\n",
            "smoothing_slope               0.0511490                 beta                 True\n",
            "smoothing_seasonal             0.000000                gamma                 True\n",
            "initial_level                 9.2251265                  l.0                 True\n",
            "initial_slope                 0.2010568                  b.0                 True\n",
            "initial_seasons.0             0.3359675                  s.0                 True\n",
            "initial_seasons.1             0.3416448                  s.1                 True\n",
            "initial_seasons.2             0.3378738                  s.2                 True\n",
            "initial_seasons.3             0.3658180                  s.3                 True\n",
            "initial_seasons.4             0.3790646                  s.4                 True\n",
            "initial_seasons.5             0.4084565                  s.5                 True\n",
            "initial_seasons.6             0.4581462                  s.6                 True\n",
            "initial_seasons.7             0.2645262                  s.7                 True\n",
            "initial_seasons.8             0.3032046                  s.8                 True\n",
            "initial_seasons.9             0.2868682                  s.9                 True\n",
            "initial_seasons.10            0.3265810                 s.10                 True\n",
            "initial_seasons.11            0.3169295                 s.11                 True\n",
            "---------------------------------------------------------------------------------\n"
          ]
        }
      ]
    }
  ]
}